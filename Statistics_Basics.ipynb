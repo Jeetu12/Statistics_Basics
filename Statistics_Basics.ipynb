{
  "nbformat": 4,
  "nbformat_minor": 0,
  "metadata": {
    "colab": {
      "provenance": []
    },
    "kernelspec": {
      "name": "python3",
      "display_name": "Python 3"
    },
    "language_info": {
      "name": "python"
    }
  },
  "cells": [
    {
      "cell_type": "markdown",
      "source": [
        "# **Statistics Basics**\n",
        "# **Assignment Questions**\n",
        "\n",
        "## **1. What is Statistics, and Why is it Important?**  \n",
        "\n",
        "- ### **Definition:**  \n",
        "  - **Statistics** is a branch of mathematics dealing with data collection, organization, analysis, interpretation, and presentation.  \n",
        "\n",
        "- ### **Importance of Statistics:-**  \n",
        "\n",
        "  - Helps in making **data-driven decisions** in various fields like business, healthcare, and finance.  \n",
        "  - Aids in **predictive analysis** using historical data.  \n",
        "  - Supports **scientific research** by drawing conclusions from experiments.  \n",
        "  - Assists in **quality control and risk assessment** in industries.  \n",
        "\n",
        "---\n",
        "\n",
        "## **2. What are the Two Main Types of Statistics?**  \n",
        "\n",
        "- Statistics is divided into:  \n",
        "\n",
        "1. **Descriptive Statistics** – Summarizes and describes features of a dataset (e.g., mean, median, mode).  \n",
        "\n",
        "2. **Inferential Statistics** – Uses sample data to make inferences about a larger population (e.g., hypothesis testing, regression).  \n",
        "\n",
        "---\n",
        "\n",
        "## **3. What are Descriptive Statistics?**  \n",
        "\n",
        "- Descriptive statistics summarize and present data meaningfully.\n",
        "\n",
        "- It includes:  \n",
        "  \n",
        "  - **Measures of Central Tendency** (Mean, Median, Mode)  \n",
        "  - **Measures of Dispersion** (Range, Variance, Standard Deviation)  \n",
        "  - **Graphical Representations** (Histograms, Boxplots)  \n",
        "\n",
        "---\n",
        "\n",
        "## **4. What is Inferential Statistics?**  \n",
        "\n",
        "- Inferential statistics allows us to make predictions or generalizations about a population based on a sample.\n",
        "\n",
        "- It includes:  \n",
        "  \n",
        "  - **Hypothesis Testing** (e.g., t-tests, chi-square tests)  \n",
        "  - **Confidence Intervals**  \n",
        "  - **Regression Analysis**  \n",
        "\n",
        "---\n",
        "\n",
        "## **5. What is Sampling in Statistics?**  \n",
        "\n",
        "- Sampling is the process of selecting a subset of individuals from a population to make inferences about the whole population. It is useful when studying the entire population is impractical.  \n",
        "\n",
        "---\n",
        "\n",
        "## **6. What are the Different Types of Sampling Methods?**  \n",
        "\n",
        "- **Random Sampling**: Each member has an equal chance of being selected.  \n",
        "\n",
        "- **Stratified Sampling**: Population is divided into subgroups (strata), and samples are taken from each.  \n",
        "\n",
        "- **Systematic Sampling**: Every nth element is chosen.  \n",
        "\n",
        "- **Cluster Sampling**: The population is divided into clusters, and entire clusters are sampled.  \n",
        "\n",
        "- **Convenience Sampling**: Samples are taken based on availability.  \n",
        "\n",
        "---\n",
        "\n",
        "## **7. What is the Difference Between Random and Non-Random Sampling?**  \n",
        "\n",
        "- **Random Sampling**: Unbiased, ensures a representative sample.  \n",
        "\n",
        "- **Non-Random Sampling**: May introduce bias, but useful for exploratory research.  \n",
        "\n",
        "---\n",
        "\n",
        "## **8. Define and Give Examples of Qualitative and Quantitative Data.**  \n",
        "\n",
        "- **Qualitative Data (Categorical)**: Describes qualities or categories. *(e.g., Colors, Gender, Blood Type)*  \n",
        "\n",
        "- **Quantitative Data (Numerical)**: Represents numerical values. *(e.g., Age, Height, Temperature)*  \n",
        "\n",
        "---\n",
        "\n",
        "## **9. What are the Different Types of Data in Statistics?**  \n",
        "\n",
        "- **Nominal**: Categories without a meaningful order. *(e.g., Hair color, Eye color)*  \n",
        "\n",
        "- **Ordinal**: Ordered categories without a defined difference. *(e.g., Rating: Poor, Average, Good)*  \n",
        "\n",
        "- **Interval**: Ordered with meaningful differences but no true zero. *(e.g., Temperature in Celsius)*  \n",
        "\n",
        "- **Ratio**: Like interval, but has a true zero. *(e.g., Height, Weight)*  \n",
        "\n",
        "---\n",
        "\n",
        "### **10. Explain nominal, ordinal, interval, and ratio levels of measurement.**\n",
        "\n",
        "- The four levels of measurement—**nominal, ordinal, interval, and ratio**—define how variables are classified and what statistical operations can be performed on them. Here’s a breakdown of each:  \n",
        "\n",
        "### **1. Nominal Level (Categorical, No Order)**  \n",
        "\n",
        "- **Definition:** Data is categorized without any meaningful order.  \n",
        "- **Characteristics:**  \n",
        "  - Categories are **distinct** and **do not have a ranking**.  \n",
        "  - No numerical or logical ordering is possible.  \n",
        "  - Only **mode** (most frequent category) can be used for analysis.  \n",
        "- **Examples:**  \n",
        "  - Blood type (A, B, AB, O)  \n",
        "  - Gender (Male, Female, Other)  \n",
        "  - Marital status (Single, Married, Divorced)  \n",
        "\n",
        "### **2. Ordinal Level (Categorical, Ordered)**  \n",
        "\n",
        "- **Definition:** Data is categorized with a meaningful order, but the difference between values is not measurable.  \n",
        "- **Characteristics:**  \n",
        "  - Categories have a **ranking** (1st, 2nd, 3rd, etc.).  \n",
        "  - Differences **between ranks are not equal** or meaningful.  \n",
        "  - Median and mode can be used for analysis, but not arithmetic operations.  \n",
        "- **Examples:**  \n",
        "  - Customer satisfaction (Poor, Average, Good, Excellent)  \n",
        "  - Education level (High School, Bachelor's, Master's, PhD)  \n",
        "  - Military ranks (Private, Sergeant, Lieutenant, General)  \n",
        "\n",
        "### **3. Interval Level (Numerical, Ordered, No True Zero)**  \n",
        "\n",
        "- **Definition:** Data is numerical with **equal intervals** between values, but there is **no true zero** (zero does not mean \"absence\" of something).  \n",
        "- **Characteristics:**  \n",
        "  - Differences between values are **meaningful and equal**.  \n",
        "  - No true zero means **ratios cannot be calculated**.  \n",
        "  - Mean, median, and standard deviation can be used for analysis.  \n",
        "- **Examples:**  \n",
        "  - Temperature in Celsius or Fahrenheit (0°C ≠ absence of temperature)  \n",
        "  - IQ scores (an IQ of 0 does not mean \"no intelligence\")  \n",
        "  - SAT scores (400, 500, 600, etc.)  \n",
        "\n",
        "### **4. Ratio Level (Numerical, Ordered, True Zero)**  \n",
        "\n",
        "- **Definition:** Data is numerical with equal intervals **and a true zero**, allowing meaningful ratios.  \n",
        "- **Characteristics:**  \n",
        "  - All properties of interval data but with a **true zero point**.  \n",
        "  - **Ratios are meaningful** (e.g., 20 kg is twice as heavy as 10 kg).  \n",
        "  - Mean, median, mode, and all arithmetic operations can be used.  \n",
        "- **Examples:**  \n",
        "  - Height (0 cm means no height)  \n",
        "  - Weight (0 kg means no weight)  \n",
        "  - Age (0 years means no age)  \n",
        "  - Income (0 income means no earnings)  \n",
        "\n",
        "### **Summary Table:**\n",
        "\n",
        "| Level      | Data Type   | Order? | Equal Intervals? | True Zero? | Example |\n",
        "|------------|------------|--------|-----------------|-----------|---------|\n",
        "| Nominal    | Categorical | ❌ No  | ❌ No  | ❌ No  | Eye color, Gender |\n",
        "| Ordinal    | Categorical | ✅ Yes | ❌ No  | ❌ No  | Education levels, Customer satisfaction |\n",
        "| Interval   | Numerical   | ✅ Yes | ✅ Yes | ❌ No  | Temperature (°C, °F), IQ scores |\n",
        "| Ratio      | Numerical   | ✅ Yes | ✅ Yes | ✅ Yes | Height, Weight, Age, Income |\n",
        "\n",
        "---\n",
        "\n",
        "## **11. What is the Measure of Central Tendency?**  \n",
        "\n",
        "- It represents a central value of a dataset and includes:  \n",
        "  - **Mean**: Arithmetic average.  \n",
        "  - **Median**: Middle value in a sorted dataset.  \n",
        "  - **Mode**: Most frequently occurring value.  \n",
        "\n",
        "---\n",
        "\n",
        "## **12. Define Mean, Median, and Mode with Examples.**  \n",
        "\n",
        "- ### **Definition of Mean, Median, and Mode**  \n",
        "\n",
        "1. **Mean (Average):** The mean is the sum of all values divided by the number of values.  \n",
        "   \n",
        "   Example: If the dataset is **[10, 20, 30, 40, 50]**, then:  \n",
        "\n",
        "   {Mean} = {10+20+30+40+50}{5} = 30\n",
        "\n",
        "2. **Median:** The median is the middle value when data is arranged in ascending order.  \n",
        "   - If the number of elements is **odd**, the middle value is the median.  \n",
        "   - If the number of elements is **even**, the median is the average of the two middle values.  \n",
        "   Example:  \n",
        "   - For **[10, 20, 30, 40, 50]**, the median is **30** (middle value).  \n",
        "   - For **[10, 20, 30, 40]**, the median is **(20+30)/2 = 25**.  \n",
        "\n",
        "3. **Mode:** The mode is the most frequently occurring value in a dataset.  \n",
        "   Example:  \n",
        "   - In **[10, 20, 20, 30, 40, 50]**, the mode is **20** because it appears twice.  \n",
        "   - In **[10, 20, 30, 40, 50]**, there is no mode because all values appear only once.  \n",
        "\n",
        "- ### **Python Example to Calculate Mean, Median, and Mode:-**  \n",
        "\n",
        "```python\n",
        "import numpy as np\n",
        "from scipy import stats\n",
        "\n",
        "data = [10, 20, 20, 30, 40, 50]\n",
        "\n",
        "mean_value = np.mean(data)\n",
        "median_value = np.median(data)\n",
        "mode_value = stats.mode(data)[0][0]\n",
        "\n",
        "print(\"Mean:\", mean_value)    # Output: 28.33\n",
        "print(\"Median:\", median_value)  # Output: 25.0\n",
        "print(\"Mode:\", mode_value)    # Output: 20\n",
        "```\n",
        "---\n",
        "\n",
        "## **13. What is the Significance of the Measure of Central Tendency?**  \n",
        "\n",
        "- ### **Significance of the Measure of Central Tendency:**  \n",
        "\n",
        "  - The **measure of central tendency** helps summarize a dataset by identifying a single central value that represents the entire dataset. It provides a quick understanding of the dataset's general behavior.  \n",
        "\n",
        "- #### **Key Significance:**  \n",
        "\n",
        "1. **Summarizes Large Data**  \n",
        "   - Instead of analyzing all values, we get a single representative value that describes the dataset.  \n",
        "   - Example: The **average income** of a city gives a quick idea about earnings.  \n",
        "\n",
        "2. **Comparison Between Datasets**  \n",
        "   - Helps compare different datasets based on their central values.  \n",
        "   - Example: Comparing **average marks** of two different classes.  \n",
        "\n",
        "3. **Decision-Making**  \n",
        "   - Businesses and policymakers use central tendency measures to make informed decisions.  \n",
        "   - Example: Companies analyze **average sales** to plan future strategies.  \n",
        "\n",
        "4. **Predictive Analysis**  \n",
        "   - Used in machine learning and statistics for making predictions based on past data trends.  \n",
        "   - Example: Finding the **average demand** for a product helps businesses manage inventory.  \n",
        "\n",
        "---\n",
        "\n",
        "## **14. What is Variance, and How is it Calculated?**  \n",
        "\n",
        "- Variance measures how spread out the data is.\n",
        "\n",
        "```python\n",
        "print(\"Variance:\", np.var(data))  # np.var calculates population variance\n",
        "```\n",
        "---\n",
        "\n",
        "## **15. What is Standard Deviation, and Why is it Important?**  \n",
        "\n",
        "- It is the square root of variance, showing how much data deviates from the mean.  \n",
        "\n",
        "```python\n",
        "print(\"Standard Deviation:\", np.std(data))\n",
        "```\n",
        "---\n",
        "\n",
        "## **16. Define and Explain the Term Range in Statistics.**  \n",
        "\n",
        "- The **range** is the difference between the maximum and minimum values in a dataset.  \n",
        "\n",
        "```python\n",
        "print(\"Range:\", max(data) - min(data))\n",
        "```\n",
        "---\n",
        "\n",
        "## **17. What is the Difference Between Variance and Standard Deviation?**  \n",
        "\n",
        "- **Variance** is squared and less interpretable.  \n",
        "\n",
        "- **Standard Deviation** is in the same units as the data, making it easier to interpret.  \n",
        "\n",
        "---\n",
        "\n",
        "## **18. What is Skewness in a Dataset?**  \n",
        "\n",
        "- ### **Skewness in a Dataset:-**  \n",
        "\n",
        "  - **Skewness** is a statistical measure that describes the asymmetry of a dataset’s distribution. It tells us whether the data is skewed (i.e., not symmetrically distributed around the mean).  \n",
        "\n",
        "- A skewness **near 0** indicates a **normal** distribution.\n",
        "- A skewness **greater than 0** suggests **positive skewness**.\n",
        "- A skewness **less than 0** suggests **negative skewness**.\n",
        "\n",
        "---\n",
        "\n",
        "## **19. What Does It Mean If a Dataset is Positively or Negatively Skewed?**  \n",
        "\n",
        "- **Positive Skew**: Right tail is longer (e.g., income distribution).  \n",
        "\n",
        "- **Negative Skew**: Left tail is longer.  \n",
        "\n",
        "```python\n",
        "from scipy.stats import skew\n",
        "print(\"Skewness:\", skew(data))\n",
        "```\n",
        "\n",
        "---\n",
        "\n",
        "## **20. Define and Explain Kurtosis.**  \n",
        "\n",
        "- Kurtosis measures whether data has heavy or light tails compared to a normal distribution.  \n",
        "\n",
        "```python\n",
        "from scipy.stats import kurtosis\n",
        "print(\"Kurtosis:\", kurtosis(data))\n",
        "```\n",
        "\n",
        "---\n",
        "\n",
        "## **21. What is the Purpose of Covariance?**  \n",
        "\n",
        "- ### **Purpose of Covariance:-**  \n",
        "\n",
        "  - Covariance is a statistical measure that helps determine the relationship between two variables. It indicates whether the variables tend to increase or decrease together.  \n",
        "\n",
        "- #### **Key Purposes of Covariance:**  \n",
        "\n",
        "1. **Understanding Relationships Between Variables**  \n",
        "   - Covariance helps determine whether two variables have a **positive**, **negative**, or **no** relationship.  \n",
        "   - Example: The relationship between **study time** and **exam scores**.\n",
        "\n",
        "2. **Direction of Relationship**  \n",
        "   - **Positive Covariance** → Both variables move in the **same direction** (increase or decrease together).  \n",
        "   - **Negative Covariance** → One variable **increases** while the other **decreases**.  \n",
        "   - **Zero Covariance** → No relationship between the variables.  \n",
        "\n",
        "3. **Used in Correlation Calculation**  \n",
        "   - Covariance is a core component of **correlation**, which measures both **strength** and **direction** of relationships.  \n",
        "   - Correlation is a normalized form of covariance, making it easier to interpret.  \n",
        "\n",
        "4. **Risk Measurement in Finance**  \n",
        "   - Covariance is widely used in finance to analyze the relationship between different stocks or assets.  \n",
        "   - A **positive covariance** between two stocks means they tend to move together, while a **negative covariance** means they move oppositely.  \n",
        "\n",
        "---\n",
        "\n",
        "## **22. What Does Correlation Measure in Statistics?**  \n",
        "\n",
        "- Correlation standardizes covariance, showing the strength of the relationship between two variables.  \n",
        "\n",
        "```python\n",
        "x = [1, 2, 3, 4, 5]\n",
        "y = [2, 4, 6, 8, 10]\n",
        "\n",
        "print(\"Covariance:\", np.cov(x, y)[0, 1])\n",
        "print(\"Correlation:\", np.corrcoef(x, y)[0, 1])\n",
        "```\n",
        "\n",
        "---\n",
        "\n",
        "## **23. What is the Difference Between Covariance and Correlation?**  \n",
        "\n",
        "- ### **Difference Between Covariance and Correlation:**  \n",
        "\n",
        "  - Both **covariance** and **correlation** measure the relationship between two variables, but they have key differences in interpretation and scaling.  \n",
        "\n",
        "- #### **Key Insights:-**  \n",
        "\n",
        "- **Covariance** tells you if two variables move together but not by how much.  \n",
        "\n",
        "- **Correlation** standardizes covariance, making it easier to interpret.  \n",
        "\n",
        "---\n",
        "\n",
        "## **24. What are Some Real-World Applications of Statistics?**  \n",
        "\n",
        "- ### **Real-World Applications of Statistics:**  \n",
        "\n",
        "  - Statistics plays a crucial role in various fields, enabling data-driven decision-making. Here are some real-world applications:-  \n",
        "\n",
        "### **1. Business & Finance**\n",
        "\n",
        "- **Market Analysis:** Predicting consumer demand and sales trends.  \n",
        "\n",
        "- **Risk Management:** Calculating insurance premiums and stock market risks.  \n",
        "\n",
        "- **Fraud Detection:** Identifying suspicious transactions in banking.  \n",
        "\n",
        "📌 *Example:* Banks use statistics to analyze customer credit scores for loan approvals.  \n",
        "\n",
        "### **2. Healthcare & Medicine**  \n",
        "\n",
        "- **Clinical Trials:** Testing new drugs and vaccines (e.g., COVID-19 vaccine trials).  \n",
        "\n",
        "- **Epidemiology:** Studying disease outbreaks and public health trends.  \n",
        "\n",
        "- **Medical Diagnosis:** AI-powered diagnosis using statistical models.  \n",
        "\n",
        "📌 *Example:* Doctors use patient data to predict disease risk factors.  \n",
        "\n",
        "\n",
        "### **3. Education**  \n",
        "\n",
        "- **Performance Analysis:** Measuring student progress and learning outcomes.  \n",
        "\n",
        "- **Standardized Testing:** Designing exams like SAT, GRE, or board exams.  \n",
        "\n",
        "- **AI in Education:** Personalized learning using predictive analytics.  \n",
        "\n",
        "📌 *Example:* Universities use student statistics for admission criteria.  \n",
        "\n",
        "### **4. Sports Analytics**  \n",
        "\n",
        "- **Player Performance:** Evaluating players using statistical models (e.g., batting average in cricket).  \n",
        "\n",
        "- **Game Strategy:** Predicting opponent moves and optimizing team strategies.  \n",
        "\n",
        "- **Injury Prevention:** Analyzing player workload to avoid injuries.  \n",
        "\n",
        "📌 *Example:* Teams like Mumbai Indians use data analytics for player selection in IPL.  \n",
        "\n",
        "### **5. Artificial Intelligence & Machine Learning**\n",
        "\n",
        "- **Data Preprocessing:** Cleaning and structuring data before training models.  \n",
        "\n",
        "- **Algorithm Optimization:** Fine-tuning models using statistical measures.  \n",
        "\n",
        "- **Predictive Analytics:** Forecasting outcomes based on past data.  \n",
        "\n",
        "📌 *Example:* Netflix recommends shows based on user viewing history using statistical models.  \n",
        "\n",
        "### **6. Government & Policy Making**\n",
        "\n",
        "- **Census & Demographics:** Collecting population data for resource planning.  \n",
        "\n",
        "- **Economic Forecasting:** Predicting inflation and GDP growth.\n",
        "\n",
        "- **Crime Statistics:** Identifying crime trends to improve public safety.  \n",
        "\n",
        "📌 *Example:* Governments use statistics to allocate budgets and plan infrastructure.  \n",
        "\n",
        "### **7. Manufacturing & Quality Control**\n",
        "\n",
        "- **Process Optimization:** Reducing waste and improving efficiency.  \n",
        "\n",
        "- **Six Sigma Methodology:** Ensuring product quality using statistical analysis.  \n",
        "\n",
        "- **Defect Prediction:** Identifying potential failures in production lines.  \n",
        "\n",
        "📌 *Example:* Companies like Toyota use statistical process control for quality improvement.  \n",
        "\n",
        "### **8. Environmental Science & Climate Studies**  \n",
        "\n",
        "- **Weather Forecasting:** Predicting climate changes using statistical models.  \n",
        "\n",
        "- **Pollution Control:** Monitoring air and water quality trends.  \n",
        "\n",
        "- **Natural Disaster Prediction:** Analyzing earthquake and hurricane patterns.  \n",
        "\n",
        "📌 *Example:* NASA uses statistics for climate change analysis and global warming predictions.  \n",
        "\n",
        "---\n",
        "---\n"
      ],
      "metadata": {
        "id": "2a9TdSayTh3v"
      }
    },
    {
      "cell_type": "markdown",
      "source": [
        "# **Practical Questions**\n",
        "\n",
        "1. Calculate the Mean, Median, and Mode of a Dataset."
      ],
      "metadata": {
        "id": "wHBXEQCGX17E"
      }
    },
    {
      "cell_type": "code",
      "source": [
        "import numpy as np\n",
        "from scipy import stats\n",
        "\n",
        "data = [10, 20, 20, 30, 40, 50]\n",
        "\n",
        "mean_value = np.mean(data)\n",
        "median_value = np.median(data)\n",
        "mode_value = stats.mode(data, keepdims=True)[0][0]\n",
        "\n",
        "print(\"Mean:\", mean_value)\n",
        "\n",
        "print(\"Median:\", median_value)\n",
        "\n",
        "print(\"Mode:\", mode_value)\n"
      ],
      "metadata": {
        "colab": {
          "base_uri": "https://localhost:8080/"
        },
        "id": "xkF9PxC6X765",
        "outputId": "038e3114-4fda-420c-87e8-a0b5f0b0c172"
      },
      "execution_count": null,
      "outputs": [
        {
          "output_type": "stream",
          "name": "stdout",
          "text": [
            "Mean: 28.333333333333332\n",
            "Median: 25.0\n",
            "Mode: 20\n"
          ]
        }
      ]
    },
    {
      "cell_type": "markdown",
      "source": [
        "2. Write a Python Program to Compute the Variance and Standard Deviation of a Dataset.\n",
        "\n"
      ],
      "metadata": {
        "id": "7IW3KHtiYhGJ"
      }
    },
    {
      "cell_type": "code",
      "source": [
        "import numpy as np\n",
        "from scipy import stats\n",
        "\n",
        "data = [100, 200, 207, 309, 405, 502]\n",
        "\n",
        "print(\"Variance:\", np.var(data))\n",
        "\n",
        "print(\"Standard Deviation:\", np.std(data))\n"
      ],
      "metadata": {
        "colab": {
          "base_uri": "https://localhost:8080/"
        },
        "id": "T-GFsZU1Yo0p",
        "outputId": "aa256f77-cc6b-4a64-f45c-8bbcada5647f"
      },
      "execution_count": null,
      "outputs": [
        {
          "output_type": "stream",
          "name": "stdout",
          "text": [
            "Variance: 18261.805555555555\n",
            "Standard Deviation: 135.1362481185398\n"
          ]
        }
      ]
    },
    {
      "cell_type": "markdown",
      "source": [
        "3. Create a Dataset and Classify it into Nominal, Ordinal, Interval, and Ratio Types."
      ],
      "metadata": {
        "id": "kSJchCDRZGPb"
      }
    },
    {
      "cell_type": "code",
      "source": [
        "dataset =\n",
        " {\n",
        "    \"Nominal\": [\"Red\", \"Blue\", \"Green\"],\n",
        "    \"Ordinal\": [\"Poor\", \"Average\", \"Good\"],\n",
        "    \"Interval\": [10, 20, 30],  # No true zero\n",
        "    \"Ratio\": [5, 10, 15]  # Has a true zero\n",
        "}\n",
        "\n",
        "print(dataset)\n"
      ],
      "metadata": {
        "colab": {
          "base_uri": "https://localhost:8080/"
        },
        "id": "oLVeB3EJZMTi",
        "outputId": "077ff597-4195-4774-b3db-d5ac831e5dbc"
      },
      "execution_count": null,
      "outputs": [
        {
          "output_type": "stream",
          "name": "stdout",
          "text": [
            "{'Nominal': ['Red', 'Blue', 'Green'], 'Ordinal': ['Poor', 'Average', 'Good'], 'Interval': [10, 20, 30], 'Ratio': [5, 10, 15]}\n"
          ]
        }
      ]
    },
    {
      "cell_type": "markdown",
      "source": [
        "4. Implement Sampling Techniques like Random and Stratified Sampling."
      ],
      "metadata": {
        "id": "_ux593kqjwT0"
      }
    },
    {
      "cell_type": "code",
      "source": [
        "# Random Sampling\n",
        "\n",
        "import random\n",
        "\n",
        "population = [1, 2, 3, 4, 5, 6, 7, 8, 9, 10]\n",
        "random_sample = random.sample(population, 4)\n",
        "print(\"Random Sample:\", random_sample)\n"
      ],
      "metadata": {
        "colab": {
          "base_uri": "https://localhost:8080/"
        },
        "id": "Hl-Wwtakj031",
        "outputId": "52fb056a-f81d-4493-8803-008fdc2d1b03"
      },
      "execution_count": null,
      "outputs": [
        {
          "output_type": "stream",
          "name": "stdout",
          "text": [
            "Random Sample: [2, 9, 8, 7]\n"
          ]
        }
      ]
    },
    {
      "cell_type": "code",
      "source": [
        "# Stratified Sampling\n",
        "\n",
        "import pandas as pd\n",
        "\n",
        "data = pd.DataFrame({\n",
        "    \"Category\": [\"A\", \"A\", \"B\", \"B\", \"C\", \"C\"],\n",
        "    \"Values\": [1, 2, 3, 4, 5, 6]\n",
        "})\n",
        "\n",
        "stratified_sample = data.groupby(\"Category\", group_keys=False).apply(lambda x: x.sample(1))\n",
        "print(stratified_sample)\n"
      ],
      "metadata": {
        "colab": {
          "base_uri": "https://localhost:8080/"
        },
        "id": "x2Oug5L4kMIh",
        "outputId": "fe3c9a24-6a28-4550-cf27-298c6b9e8d4c"
      },
      "execution_count": null,
      "outputs": [
        {
          "output_type": "stream",
          "name": "stdout",
          "text": [
            "  Category  Values\n",
            "0        A       1\n",
            "3        B       4\n",
            "5        C       6\n"
          ]
        },
        {
          "output_type": "stream",
          "name": "stderr",
          "text": [
            "<ipython-input-10-b2a7e2b5f5df>:10: DeprecationWarning: DataFrameGroupBy.apply operated on the grouping columns. This behavior is deprecated, and in a future version of pandas the grouping columns will be excluded from the operation. Either pass `include_groups=False` to exclude the groupings or explicitly select the grouping columns after groupby to silence this warning.\n",
            "  stratified_sample = data.groupby(\"Category\", group_keys=False).apply(lambda x: x.sample(1))\n"
          ]
        }
      ]
    },
    {
      "cell_type": "markdown",
      "source": [
        "5. Write a Python Function to Calculate the Range of a Dataset."
      ],
      "metadata": {
        "id": "0PSJPq1_mKG-"
      }
    },
    {
      "cell_type": "code",
      "source": [
        "def calculate_range(data):\n",
        "    \"\"\"\n",
        "    Function to calculate the range of a dataset.\n",
        "\n",
        "    Parameters:\n",
        "        data (list): A list of numerical values.\n",
        "\n",
        "    Returns:\n",
        "        int/float: The range of the dataset.\n",
        "    \"\"\"\n",
        "    if not data:  # Check if the list is empty\n",
        "        return None\n",
        "\n",
        "    return max(data) - min(data)\n",
        "\n",
        "# Example dataset\n",
        "data = [10, 20, 30, 40, 50]\n",
        "\n",
        "# Calculate and print the range\n",
        "range_value = calculate_range(data)\n",
        "print(\"Range of the dataset:\", range_value)\n"
      ],
      "metadata": {
        "colab": {
          "base_uri": "https://localhost:8080/"
        },
        "id": "q-XeQhdlmcPh",
        "outputId": "66e2ecaf-58d6-4975-b95b-30c6df0a18b7"
      },
      "execution_count": null,
      "outputs": [
        {
          "output_type": "stream",
          "name": "stdout",
          "text": [
            "Range of the dataset: 40\n"
          ]
        }
      ]
    },
    {
      "cell_type": "markdown",
      "source": [
        "6. Create a Dataset and Plot its Histogram to Visualize Skewness."
      ],
      "metadata": {
        "id": "QqqEdn1Rruv4"
      }
    },
    {
      "cell_type": "code",
      "source": [
        "import matplotlib.pyplot as plt\n",
        "\n",
        "plt.hist(data, bins=5, color='red', edgecolor='black')\n",
        "plt.xlabel(\"Values\")\n",
        "plt.ylabel(\"Frequency\")\n",
        "plt.title(\"Histogram of Dataset\")\n",
        "plt.show()\n"
      ],
      "metadata": {
        "colab": {
          "base_uri": "https://localhost:8080/",
          "height": 472
        },
        "id": "FeDdnpxCrzby",
        "outputId": "a0034914-36f4-4abc-cd3a-a6b75ce17d06"
      },
      "execution_count": null,
      "outputs": [
        {
          "output_type": "display_data",
          "data": {
            "text/plain": [
              "<Figure size 640x480 with 1 Axes>"
            ],
            "image/png": "[encoded data removed]"
          },
          "metadata": {}
        }
      ]
    },
    {
      "cell_type": "markdown",
      "source": [
        "7. Calculate Skewness and Kurtosis of a Dataset using Python."
      ],
      "metadata": {
        "id": "q8BAiYptsF6I"
      }
    },
    {
      "cell_type": "code",
      "source": [
        "from scipy.stats import skew, kurtosis\n",
        "\n",
        "print(\"Skewness:\", skew(data))\n",
        "print(\"Kurtosis:\", kurtosis(data))\n"
      ],
      "metadata": {
        "colab": {
          "base_uri": "https://localhost:8080/"
        },
        "id": "NjebAsUhsJ8t",
        "outputId": "46be0a29-84ca-4254-fe8d-d191f856930a"
      },
      "execution_count": null,
      "outputs": [
        {
          "output_type": "stream",
          "name": "stdout",
          "text": [
            "Skewness: 0.0\n",
            "Kurtosis: -1.3\n"
          ]
        }
      ]
    },
    {
      "cell_type": "markdown",
      "source": [
        "8. Generate a Dataset and Demonstrate Positive and Negative Skewness."
      ],
      "metadata": {
        "id": "AjqV6lwAsU-9"
      }
    },
    {
      "cell_type": "code",
      "source": [
        "# Positive Skew\n",
        "positively_skewed = [1, 2, 2, 3, 3, 4, 10, 20]\n",
        "print(\"Positive Skewness:\", skew(positively_skewed))\n"
      ],
      "metadata": {
        "colab": {
          "base_uri": "https://localhost:8080/"
        },
        "id": "xQGB7y4msZez",
        "outputId": "163773f5-0708-40e5-b264-025da99fcdc7"
      },
      "execution_count": null,
      "outputs": [
        {
          "output_type": "stream",
          "name": "stdout",
          "text": [
            "Positive Skewness: 1.6158675646743965\n"
          ]
        }
      ]
    },
    {
      "cell_type": "code",
      "source": [
        "# Negative Skew\n",
        "negatively_skewed = [10, 20, 4, 3, 3, 2, 2, 1]\n",
        "print(\"Negative Skewness:\", skew(negatively_skewed))\n"
      ],
      "metadata": {
        "colab": {
          "base_uri": "https://localhost:8080/"
        },
        "id": "jP9At3RZssUt",
        "outputId": "6acde709-bb98-40a4-d11d-fa60bb7d22be"
      },
      "execution_count": null,
      "outputs": [
        {
          "output_type": "stream",
          "name": "stdout",
          "text": [
            "Negative Skewness: 1.6158675646743965\n"
          ]
        }
      ]
    },
    {
      "cell_type": "markdown",
      "source": [
        "9. Write a Python Script to Calculate Covariance Between Two Datasets."
      ],
      "metadata": {
        "id": "II2L7wQus4VZ"
      }
    },
    {
      "cell_type": "code",
      "source": [
        "x = [1, 2, 3, 4, 5]\n",
        "y = [2, 4, 6, 8, 10]\n",
        "\n",
        "cov_matrix = np.cov(x, y)\n",
        "print(\"Covariance:\", cov_matrix[0, 1])\n"
      ],
      "metadata": {
        "colab": {
          "base_uri": "https://localhost:8080/"
        },
        "id": "K-OCLufKs7Io",
        "outputId": "e2fb5014-fd38-4786-e6e3-4d8f1f063ae7"
      },
      "execution_count": null,
      "outputs": [
        {
          "output_type": "stream",
          "name": "stdout",
          "text": [
            "Covariance: 5.0\n"
          ]
        }
      ]
    },
    {
      "cell_type": "markdown",
      "source": [
        "10. Write a Python Script to Calculate the Correlation Coefficient Between Two Datasets."
      ],
      "metadata": {
        "id": "Uspw2DUruDvB"
      }
    },
    {
      "cell_type": "code",
      "source": [
        "correlation_coefficient = np.corrcoef(x, y)[0, 1]\n",
        "print(\"Correlation Coefficient:\", correlation_coefficient)\n"
      ],
      "metadata": {
        "colab": {
          "base_uri": "https://localhost:8080/"
        },
        "id": "o2Pm4tvxukhx",
        "outputId": "5364b40e-a495-4ce8-fede-38c8a8041e7d"
      },
      "execution_count": null,
      "outputs": [
        {
          "output_type": "stream",
          "name": "stdout",
          "text": [
            "Correlation Coefficient: 0.9999999999999999\n"
          ]
        }
      ]
    },
    {
      "cell_type": "markdown",
      "source": [
        "11. Create a Scatter Plot to Visualize the Relationship Between Two Variables."
      ],
      "metadata": {
        "id": "KsIxvYXUusLx"
      }
    },
    {
      "cell_type": "code",
      "source": [
        "plt.scatter(x, y, color='red')\n",
        "plt.xlabel(\"Time\")\n",
        "plt.ylabel(\"Velocity\")\n",
        "plt.title(\"Scatter Plot of Velocity and Time\")\n",
        "plt.show()\n"
      ],
      "metadata": {
        "colab": {
          "base_uri": "https://localhost:8080/",
          "height": 472
        },
        "id": "NLLoIPhpuwZ8",
        "outputId": "b2460104-33b2-4555-fa3f-0bb67c66ecf5"
      },
      "execution_count": null,
      "outputs": [
        {
          "output_type": "display_data",
          "data": {
            "text/plain": [
              "<Figure size 640x480 with 1 Axes>"
            ],
            "image/png": "[encoded data removed]"
          },
          "metadata": {}
        }
      ]
    },
    {
      "cell_type": "markdown",
      "source": [
        "12. Implement and Compare Simple Random Sampling and Systematic Sampling"
      ],
      "metadata": {
        "id": "N8pINa2Y4r6U"
      }
    },
    {
      "cell_type": "code",
      "source": [
        "# Simple Random Sampling\n",
        "\n",
        "random_sample = random.sample(population, 4)\n",
        "print(\"Simple Random Sample:\", random_sample)\n"
      ],
      "metadata": {
        "colab": {
          "base_uri": "https://localhost:8080/"
        },
        "id": "p1CZGWy-4u8Z",
        "outputId": "870d6040-5748-443d-d364-95a27c6d6dc2"
      },
      "execution_count": null,
      "outputs": [
        {
          "output_type": "stream",
          "name": "stdout",
          "text": [
            "Simple Random Sample: [3, 7, 1, 8]\n"
          ]
        }
      ]
    },
    {
      "cell_type": "code",
      "source": [
        "# Systematic Sampling\n",
        "\n",
        "def systematic_sampling(population, step):\n",
        "    return [population[i] for i in range(0, len(population), step)]\n",
        "\n",
        "print(\"Systematic Sample:\", systematic_sampling(population, 4))\n"
      ],
      "metadata": {
        "colab": {
          "base_uri": "https://localhost:8080/"
        },
        "id": "Tv_0MMrC4-kh",
        "outputId": "54da7b7b-280a-4bb0-d79f-42eed820cc6c"
      },
      "execution_count": null,
      "outputs": [
        {
          "output_type": "stream",
          "name": "stdout",
          "text": [
            "Systematic Sample: [1, 5, 9]\n"
          ]
        }
      ]
    },
    {
      "cell_type": "markdown",
      "source": [
        "13. Calculate the Mean, Median, and Mode of Grouped Data."
      ],
      "metadata": {
        "id": "heQacIuw5LCV"
      }
    },
    {
      "cell_type": "code",
      "source": [
        "grouped_data = {\n",
        "    \"Intervals\": [\"0-10\", \"10-20\", \"20-30\"],\n",
        "    \"Frequency\": [5, 15, 10]\n",
        "}\n",
        "\n",
        "mean_grouped = (5*5 + 15*15 + 10*25) / (5+15+10)\n",
        "print(\"Grouped Mean:\", mean_grouped)\n"
      ],
      "metadata": {
        "colab": {
          "base_uri": "https://localhost:8080/"
        },
        "id": "6YSDi4Wv5OUJ",
        "outputId": "e70037cb-ef02-4a98-84c8-8e14f51f0902"
      },
      "execution_count": null,
      "outputs": [
        {
          "output_type": "stream",
          "name": "stdout",
          "text": [
            "Grouped Mean: 16.666666666666668\n"
          ]
        }
      ]
    },
    {
      "cell_type": "markdown",
      "source": [
        "14. Simulate Data Using Python and Calculate Its Central Tendency and Dispersion."
      ],
      "metadata": {
        "id": "MBtolbqf5ccm"
      }
    },
    {
      "cell_type": "code",
      "source": [
        "simulated_data = np.random.randint(1, 100, 20)\n",
        "\n",
        "print(\"Simulated Data:\", simulated_data)\n",
        "print(\"Mean:\", np.mean(simulated_data))\n",
        "print(\"Median:\", np.median(simulated_data))\n",
        "print(\"Standard Deviation:\", np.std(simulated_data))\n"
      ],
      "metadata": {
        "colab": {
          "base_uri": "https://localhost:8080/"
        },
        "id": "yoEailTL5f5M",
        "outputId": "b601525a-74a6-40d5-9392-74dbd446bd16"
      },
      "execution_count": null,
      "outputs": [
        {
          "output_type": "stream",
          "name": "stdout",
          "text": [
            "Simulated Data: [88 83 24 71 67 91 66 39 17 22 57 55 55 72 35 18 70 12 68 24]\n",
            "Mean: 51.7\n",
            "Median: 56.0\n",
            "Standard Deviation: 24.9881972138848\n"
          ]
        }
      ]
    },
    {
      "cell_type": "markdown",
      "source": [
        "15. Use NumPy or Pandas to Summarize a Dataset’s Descriptive Statistics."
      ],
      "metadata": {
        "id": "It-1t6Fw6aU6"
      }
    },
    {
      "cell_type": "code",
      "source": [
        "df = pd.DataFrame({'Data': simulated_data})\n",
        "print(df.describe())\n"
      ],
      "metadata": {
        "colab": {
          "base_uri": "https://localhost:8080/"
        },
        "id": "yItlGEuP6dtE",
        "outputId": "7063cd7e-21c0-448f-97b9-e2464c6987a1"
      },
      "execution_count": null,
      "outputs": [
        {
          "output_type": "stream",
          "name": "stdout",
          "text": [
            "            Data\n",
            "count  20.000000\n",
            "mean   51.700000\n",
            "std    25.637349\n",
            "min    12.000000\n",
            "25%    24.000000\n",
            "50%    56.000000\n",
            "75%    70.250000\n",
            "max    91.000000\n"
          ]
        }
      ]
    },
    {
      "cell_type": "markdown",
      "source": [
        "16. Plot a Boxplot to Understand the Spread and Identify Outliers."
      ],
      "metadata": {
        "id": "CRHBGnOn6mVJ"
      }
    },
    {
      "cell_type": "code",
      "source": [
        "import numpy as np\n",
        "import seaborn as sns\n",
        "import matplotlib.pyplot as plt\n",
        "\n",
        "# Generating a random dataset\n",
        "simulated_data = np.random.randint(1, 100, 20)  # 20 random numbers between 1 and 100\n",
        "\n",
        "# Creating the boxplot\n",
        "sns.boxplot(data=simulated_data)\n",
        "\n",
        "# Displaying the plot\n",
        "plt.title(\"Boxplot of Simulated Data\")\n",
        "plt.show()\n"
      ],
      "metadata": {
        "colab": {
          "base_uri": "https://localhost:8080/",
          "height": 433
        },
        "id": "inPv0zMh6oph",
        "outputId": "92bcbc28-351b-4b92-deda-7e85d51e5d88"
      },
      "execution_count": null,
      "outputs": [
        {
          "output_type": "display_data",
          "data": {
            "text/plain": [
              "<Figure size 640x480 with 1 Axes>"
            ],
            "image/png": "[encoded data removed]"
          },
          "metadata": {}
        }
      ]
    },
    {
      "cell_type": "markdown",
      "source": [
        "17. Calculate the Interquartile Range (IQR) of a Dataset."
      ],
      "metadata": {
        "id": "cN0DFO1w7JRl"
      }
    },
    {
      "cell_type": "code",
      "source": [
        "Q1 = np.percentile(data, 25)\n",
        "Q3 = np.percentile(data, 75)\n",
        "IQR = Q3 - Q1\n",
        "\n",
        "print(\"Interquartile Range (IQR):\", IQR)\n"
      ],
      "metadata": {
        "colab": {
          "base_uri": "https://localhost:8080/"
        },
        "id": "JVgdglSN7T-G",
        "outputId": "8634d79a-ac6a-4fe5-ba0e-d31e87f455ac"
      },
      "execution_count": null,
      "outputs": [
        {
          "output_type": "stream",
          "name": "stdout",
          "text": [
            "Interquartile Range (IQR): 20.0\n"
          ]
        }
      ]
    },
    {
      "cell_type": "markdown",
      "source": [
        "18. Implement Z-score Normalization and Explain Its Significance."
      ],
      "metadata": {
        "id": "qqyE6Qlf7it-"
      }
    },
    {
      "cell_type": "code",
      "source": [
        "from scipy.stats import zscore\n",
        "\n",
        "z_scores = zscore(data)\n",
        "print(\"Z-scores:\", z_scores)\n",
        "\n",
        "# Significance: Z-score normalizes the data, making it easier to compare different datasets.\n",
        "\n"
      ],
      "metadata": {
        "colab": {
          "base_uri": "https://localhost:8080/"
        },
        "id": "-8Md8tAP7mjH",
        "outputId": "1c84265e-8378-4312-8c8c-4c57861eb0d5"
      },
      "execution_count": null,
      "outputs": [
        {
          "output_type": "stream",
          "name": "stdout",
          "text": [
            "Z-scores: [-1.41421356 -0.70710678  0.          0.70710678  1.41421356]\n"
          ]
        }
      ]
    },
    {
      "cell_type": "markdown",
      "source": [
        "19. Compare Two Datasets Using Their Standard Deviations."
      ],
      "metadata": {
        "id": "pXlM-DWF7sm7"
      }
    },
    {
      "cell_type": "code",
      "source": [
        "dataset1 = np.random.randint(1, 100, 10)\n",
        "dataset2 = np.random.randint(1, 100, 10)\n",
        "\n",
        "print(\"Standard Deviation of Dataset 1:\", np.std(dataset1))\n",
        "print(\"Standard Deviation of Dataset 2:\", np.std(dataset2))\n"
      ],
      "metadata": {
        "colab": {
          "base_uri": "https://localhost:8080/"
        },
        "id": "6oDj_u0-71vC",
        "outputId": "9fb5031f-649a-42cb-e3cb-77d7702a0c74"
      },
      "execution_count": null,
      "outputs": [
        {
          "output_type": "stream",
          "name": "stdout",
          "text": [
            "Standard Deviation of Dataset 1: 27.587859648765797\n",
            "Standard Deviation of Dataset 2: 32.231196068405524\n"
          ]
        }
      ]
    },
    {
      "cell_type": "markdown",
      "source": [
        "20. Write a Python Program to Visualize Covariance Using a Heatmap."
      ],
      "metadata": {
        "id": "DAdmXsHy77Z_"
      }
    },
    {
      "cell_type": "code",
      "source": [
        "import seaborn as sns\n",
        "\n",
        "data_matrix = np.array([x, y])\n",
        "sns.heatmap(np.cov(data_matrix), annot=True)\n",
        "plt.show()\n"
      ],
      "metadata": {
        "colab": {
          "base_uri": "https://localhost:8080/",
          "height": 435
        },
        "id": "R1N6l6Oy7-Qx",
        "outputId": "473d24f3-7acf-4031-b932-17bb28eb4e26"
      },
      "execution_count": null,
      "outputs": [
        {
          "output_type": "display_data",
          "data": {
            "text/plain": [
              "<Figure size 640x480 with 2 Axes>"
            ],
            "image/png": "[encoded data removed]"
          },
          "metadata": {}
        }
      ]
    },
    {
      "cell_type": "markdown",
      "source": [
        "21. Use Seaborn to Create a Correlation Matrix for a Dataset."
      ],
      "metadata": {
        "id": "I6BuPHHd8DVX"
      }
    },
    {
      "cell_type": "code",
      "source": [
        "import seaborn as sns\n",
        "\n",
        "df = pd.DataFrame({'X': x, 'Y': y})\n",
        "sns.heatmap(df.corr(), annot=True)\n",
        "plt.show()\n"
      ],
      "metadata": {
        "colab": {
          "base_uri": "https://localhost:8080/",
          "height": 435
        },
        "id": "RRFcLN8P8GXI",
        "outputId": "b469ab20-3560-458f-fdaa-83819d9fe57f"
      },
      "execution_count": null,
      "outputs": [
        {
          "output_type": "display_data",
          "data": {
            "text/plain": [
              "<Figure size 640x480 with 2 Axes>"
            ],
            "image/png": "[encoded data removed]"
          },
          "metadata": {}
        }
      ]
    },
    {
      "cell_type": "markdown",
      "source": [
        "22. Generate a dataset and implement both variance and standard deviation computations."
      ],
      "metadata": {
        "id": "-rBoS3Uq9EVj"
      }
    },
    {
      "cell_type": "code",
      "source": [
        "import numpy as np\n",
        "\n",
        "# Step 1: Generate a random dataset\n",
        "dataset = np.random.randint(1, 100, 20)  # 20 random numbers between 1 and 100\n",
        "print(\"Dataset:\", dataset)\n",
        "\n",
        "# Step 2: Compute variance and standard deviation\n",
        "variance = np.var(dataset)  # Population variance\n",
        "std_dev = np.std(dataset)  # Population standard deviation\n",
        "\n",
        "# Display the results\n",
        "print(\"Variance of the dataset:\", variance)\n",
        "print(\"Standard Deviation of the dataset:\", std_dev)\n"
      ],
      "metadata": {
        "id": "TmPvYHr29TeG",
        "outputId": "e7b625e3-a618-4efb-ab0a-9cf536d9da45",
        "colab": {
          "base_uri": "https://localhost:8080/"
        }
      },
      "execution_count": null,
      "outputs": [
        {
          "output_type": "stream",
          "name": "stdout",
          "text": [
            "Dataset: [74 40 77 36 80 59  1 88  2 80  3 34 54 55 57 62 96 75  9 30]\n",
            "Variance of the dataset: 857.2400000000001\n",
            "Standard Deviation of the dataset: 29.27866117157682\n"
          ]
        }
      ]
    },
    {
      "cell_type": "markdown",
      "source": [
        "23. Visualize Skewness and Kurtosis Using Matplotlib or Seaborn."
      ],
      "metadata": {
        "id": "t8xJakIl8Nsf"
      }
    },
    {
      "cell_type": "code",
      "source": [
        "sns.histplot(data, kde=True)\n",
        "plt.show()\n"
      ],
      "metadata": {
        "colab": {
          "base_uri": "https://localhost:8080/",
          "height": 430
        },
        "id": "olRDWX4k8QUg",
        "outputId": "a8b672d1-b805-434d-cc26-964f4f7a25b6"
      },
      "execution_count": null,
      "outputs": [
        {
          "output_type": "display_data",
          "data": {
            "text/plain": [
              "<Figure size 640x480 with 1 Axes>"
            ],
            "image/png": "[encoded data removed]"
          },
          "metadata": {}
        }
      ]
    },
    {
      "cell_type": "markdown",
      "source": [
        "24. Implement the Pearson and Spearman Correlation Coefficients for a Dataset."
      ],
      "metadata": {
        "id": "3zvzjo5v8WPB"
      }
    },
    {
      "cell_type": "code",
      "source": [
        "from scipy.stats import pearsonr, spearmanr\n",
        "\n",
        "print(\"Pearson Correlation:\", pearsonr(x, y)[0])\n",
        "print(\"Spearman Correlation:\", spearmanr(x, y)[0])\n"
      ],
      "metadata": {
        "colab": {
          "base_uri": "https://localhost:8080/"
        },
        "id": "4yMMjpK88Y-w",
        "outputId": "de57c5b9-294f-48eb-fc09-d44fdb03009b"
      },
      "execution_count": null,
      "outputs": [
        {
          "output_type": "stream",
          "name": "stdout",
          "text": [
            "Pearson Correlation: 1.0\n",
            "Spearman Correlation: 0.9999999999999999\n"
          ]
        }
      ]
    }
  ]
}